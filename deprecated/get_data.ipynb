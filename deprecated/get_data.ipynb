{
 "cells": [
  {
   "cell_type": "markdown",
   "id": "375bb308",
   "metadata": {},
   "source": [
    "# Lichess data visualization"
   ]
  },
  {
   "cell_type": "markdown",
   "id": "09db0e63",
   "metadata": {},
   "source": [
    "Lichess data visualization\n",
    "\n",
    "By Isthmus // Mitchell P. Krawiec-Thayer"
   ]
  },
  {
   "cell_type": "markdown",
   "id": "57ebff41",
   "metadata": {},
   "source": [
    "## Import Libraries\n",
    "(if you have any issues with the next cell, run `pip install -r requirements.txt` to install dependencies)"
   ]
  },
  {
   "cell_type": "code",
   "execution_count": 2,
   "id": "11a4ee8c",
   "metadata": {},
   "outputs": [
    {
     "name": "stdout",
     "output_type": "stream",
     "text": [
      "Requirement already satisfied: async-lichess-sdk in ./venv/lib/python3.8/site-packages (1.1.0.7)\r\n",
      "Requirement already satisfied: python-chess in ./venv/lib/python3.8/site-packages (from async-lichess-sdk) (1.999)\r\n",
      "Requirement already satisfied: aiohttp in ./venv/lib/python3.8/site-packages (from async-lichess-sdk) (3.7.4.post0)\r\n",
      "Requirement already satisfied: chess<2,>=1 in ./venv/lib/python3.8/site-packages (from python-chess->async-lichess-sdk) (1.6.1)\r\n",
      "Requirement already satisfied: async-timeout<4.0,>=3.0 in ./venv/lib/python3.8/site-packages (from aiohttp->async-lichess-sdk) (3.0.1)\r\n",
      "Requirement already satisfied: typing-extensions>=3.6.5 in ./venv/lib/python3.8/site-packages (from aiohttp->async-lichess-sdk) (3.10.0.0)\r\n",
      "Requirement already satisfied: attrs>=17.3.0 in /home/postgres1/.local/lib/python3.8/site-packages (from aiohttp->async-lichess-sdk) (21.2.0)\r\n",
      "Requirement already satisfied: yarl<2.0,>=1.0 in ./venv/lib/python3.8/site-packages (from aiohttp->async-lichess-sdk) (1.6.3)\r\n",
      "Requirement already satisfied: multidict<7.0,>=4.5 in ./venv/lib/python3.8/site-packages (from aiohttp->async-lichess-sdk) (5.1.0)\r\n",
      "Requirement already satisfied: chardet<5.0,>=2.0 in /usr/lib/python3/dist-packages (from aiohttp->async-lichess-sdk) (3.0.4)\r\n",
      "Requirement already satisfied: idna>=2.0 in /usr/lib/python3/dist-packages (from yarl<2.0,>=1.0->aiohttp->async-lichess-sdk) (2.8)\r\n",
      "\u001B[33mWARNING: You are using pip version 19.2.3, however version 21.1.2 is available.\r\n",
      "You should consider upgrading via the 'pip install --upgrade pip' command.\u001B[0m\r\n"
     ]
    }
   ],
   "source": [
    "!pip install async-lichess-sdk"
   ]
  },
  {
   "cell_type": "code",
   "execution_count": 1,
   "id": "0750960f",
   "metadata": {},
   "outputs": [
    {
     "ename": "ModuleNotFoundError",
     "evalue": "No module named 'lichess_client'",
     "output_type": "error",
     "traceback": [
      "\u001B[0;31m---------------------------------------------------------------------------\u001B[0m",
      "\u001B[0;31mModuleNotFoundError\u001B[0m                       Traceback (most recent call last)",
      "\u001B[0;32m<ipython-input-1-4ba59ed00ea0>\u001B[0m in \u001B[0;36m<module>\u001B[0;34m\u001B[0m\n\u001B[0;32m----> 1\u001B[0;31m \u001B[0;32mfrom\u001B[0m \u001B[0mlichess_client\u001B[0m \u001B[0;32mimport\u001B[0m \u001B[0mAPIClient\u001B[0m\u001B[0;34m\u001B[0m\u001B[0;34m\u001B[0m\u001B[0m\n\u001B[0m\u001B[1;32m      2\u001B[0m \u001B[0;32mimport\u001B[0m \u001B[0mcsv\u001B[0m\u001B[0;34m\u001B[0m\u001B[0;34m\u001B[0m\u001B[0m\n\u001B[1;32m      3\u001B[0m \u001B[0;32mimport\u001B[0m \u001B[0mpandas\u001B[0m \u001B[0;32mas\u001B[0m \u001B[0mpd\u001B[0m\u001B[0;34m\u001B[0m\u001B[0;34m\u001B[0m\u001B[0m\n\u001B[1;32m      4\u001B[0m \u001B[0;32mimport\u001B[0m \u001B[0mos\u001B[0m\u001B[0;34m\u001B[0m\u001B[0;34m\u001B[0m\u001B[0m\n",
      "\u001B[0;31mModuleNotFoundError\u001B[0m: No module named 'lichess_client'"
     ]
    }
   ],
   "source": [
    "from lichess_client import APIClient\n",
    "import csv\n",
    "import pandas as pd\n",
    "import os"
   ]
  },
  {
   "cell_type": "markdown",
   "id": "55775c93",
   "metadata": {},
   "source": [
    "## Set parameters"
   ]
  },
  {
   "cell_type": "code",
   "execution_count": null,
   "id": "2922826d",
   "metadata": {},
   "outputs": [],
   "source": [
    "token = \"ROuHGXKoTwgIKz8b\"\n",
    "output_data_file_path = os.path.join(os.path.curdir,'puzzle_history.csv')"
   ]
  },
  {
   "cell_type": "markdown",
   "id": "84aa96e0",
   "metadata": {},
   "source": [
    "## Connect"
   ]
  },
  {
   "cell_type": "code",
   "execution_count": null,
   "id": "38fe07dc",
   "metadata": {},
   "outputs": [],
   "source": [
    "client = APIClient(token=token)"
   ]
  },
  {
   "cell_type": "markdown",
   "id": "f39cbb9e",
   "metadata": {},
   "source": [
    "## Retrieve data"
   ]
  },
  {
   "cell_type": "code",
   "execution_count": null,
   "id": "708bb09b",
   "metadata": {},
   "outputs": [],
   "source": [
    "response = await client.users.get_your_puzzle_activity()"
   ]
  },
  {
   "cell_type": "markdown",
   "id": "b878c199",
   "metadata": {},
   "source": [
    "## Process data"
   ]
  },
  {
   "cell_type": "code",
   "execution_count": null,
   "id": "86f436ee",
   "metadata": {},
   "outputs": [],
   "source": [
    "puzze_history_dict: dict = response.to_dict()\n",
    "puzzle_history_list: list = puzze_history_dict['entity']['content']"
   ]
  },
  {
   "cell_type": "code",
   "execution_count": null,
   "id": "742b6175",
   "metadata": {},
   "outputs": [],
   "source": [
    "id_buffer: list = list()\n",
    "date_buffer: list = list()\n",
    "win_buffer: list = list()\n",
    "rating_buffer: list = list()\n",
    "    \n",
    "for index in range(len(puzzle_history_list)):\n",
    "    id_buffer.append(puzzle_history_list[index]['id'])\n",
    "    date_buffer.append(puzzle_history_list[index]['date'])\n",
    "    win_buffer.append(puzzle_history_list[index]['win'])\n",
    "    rating_buffer.append(puzzle_history_list[index]['puzzleRating'])\n",
    "    \n",
    "df = pd.DataFrame()\n",
    "df['id'] = id_buffer\n",
    "df['date'] = date_buffer\n",
    "df['win'] = win_buffer\n",
    "df['rating'] = rating_buffer"
   ]
  },
  {
   "cell_type": "code",
   "execution_count": null,
   "id": "a35516fe",
   "metadata": {},
   "outputs": [],
   "source": [
    "df.head()"
   ]
  },
  {
   "cell_type": "code",
   "execution_count": null,
   "id": "4d4c1a71",
   "metadata": {
    "pycharm": {
     "name": "#%%\n"
    }
   },
   "outputs": [],
   "source": [
    "df.describe()"
   ]
  },
  {
   "cell_type": "markdown",
   "id": "2954d50f",
   "metadata": {},
   "source": [
    "## Save data"
   ]
  },
  {
   "cell_type": "code",
   "execution_count": null,
   "id": "6a0e124b",
   "metadata": {},
   "outputs": [],
   "source": [
    "df.to_csv(output_data_file_path, index_label = 'reverse_order')"
   ]
  }
 ],
 "metadata": {
  "kernelspec": {
   "display_name": "Python 3",
   "language": "python",
   "name": "python3"
  },
  "language_info": {
   "codemirror_mode": {
    "name": "ipython",
    "version": 3
   },
   "file_extension": ".py",
   "mimetype": "text/x-python",
   "name": "python",
   "nbconvert_exporter": "python",
   "pygments_lexer": "ipython3",
   "version": "3.8.5"
  }
 },
 "nbformat": 4,
 "nbformat_minor": 5
}