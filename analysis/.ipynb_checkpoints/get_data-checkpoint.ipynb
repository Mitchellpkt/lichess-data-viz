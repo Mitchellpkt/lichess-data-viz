{
 "cells": [
  {
   "cell_type": "markdown",
   "id": "375bb308",
   "metadata": {},
   "source": [
    "# Lichess data visualization"
   ]
  },
  {
   "cell_type": "markdown",
   "id": "09db0e63",
   "metadata": {},
   "source": [
    "Lichess data visualization\n",
    "\n",
    "By Isthmus // Mitchell P. Krawiec-Thayer"
   ]
  },
  {
   "cell_type": "markdown",
   "id": "57ebff41",
   "metadata": {},
   "source": [
    "## Import Libraries\n",
    "(if you have any issues with the next cell, run `pip install -r requirements.txt` to install dependencies)"
   ]
  },
  {
   "cell_type": "code",
   "execution_count": 63,
   "id": "0750960f",
   "metadata": {},
   "outputs": [],
   "source": [
    "from lichess_client import APIClient\n",
    "import csv\n",
    "import pandas as pd"
   ]
  },
  {
   "cell_type": "markdown",
   "id": "55775c93",
   "metadata": {},
   "source": [
    "## Set parameters"
   ]
  },
  {
   "cell_type": "code",
   "execution_count": 5,
   "id": "2922826d",
   "metadata": {},
   "outputs": [],
   "source": [
    "token = \"ROuHGXKoTwgIKz8b\""
   ]
  },
  {
   "cell_type": "markdown",
   "id": "84aa96e0",
   "metadata": {},
   "source": [
    "## Connect"
   ]
  },
  {
   "cell_type": "code",
   "execution_count": 4,
   "id": "38fe07dc",
   "metadata": {},
   "outputs": [],
   "source": [
    "client = APIClient(token=token)"
   ]
  },
  {
   "cell_type": "markdown",
   "id": "f39cbb9e",
   "metadata": {},
   "source": [
    "## Retrieve data"
   ]
  },
  {
   "cell_type": "code",
   "execution_count": 17,
   "id": "708bb09b",
   "metadata": {},
   "outputs": [],
   "source": [
    "response = await client.users.get_your_puzzle_activity()"
   ]
  },
  {
   "cell_type": "markdown",
   "id": "b878c199",
   "metadata": {},
   "source": [
    "## Process data"
   ]
  },
  {
   "cell_type": "code",
   "execution_count": 55,
   "id": "86f436ee",
   "metadata": {},
   "outputs": [],
   "source": [
    "puzze_history_dict: dict = response.to_dict()\n",
    "puzzle_history_list: list = output_dict['entity']['content']"
   ]
  },
  {
   "cell_type": "code",
   "execution_count": 64,
   "id": "742b6175",
   "metadata": {},
   "outputs": [],
   "source": [
    "id_buffer: list = list()\n",
    "date_buffer: list = list()\n",
    "win_buffer: list = list()\n",
    "rating_buffer: list = list()\n",
    "    \n",
    "for index in range(len(puzzle_history_list)):\n",
    "    id_buffer.append(puzzle_history_list[index]['id'])\n",
    "    date_buffer.append(puzzle_history_list[index]['date'])\n",
    "    win_buffer.append(puzzle_history_list[index]['win'])\n",
    "    rating_buffer.append(puzzle_history_list[index]['puzzleRating'])\n",
    "    \n",
    "df = pd.DataFrame()\n",
    "df['id'] = id_buffer\n",
    "df['date'] = date_buffer\n",
    "df['win'] = win_buffer\n",
    "df['rating'] = rating_buffer"
   ]
  },
  {
   "cell_type": "code",
   "execution_count": 66,
   "id": "a35516fe",
   "metadata": {},
   "outputs": [
    {
     "data": {
      "text/html": [
       "<div>\n",
       "<style scoped>\n",
       "    .dataframe tbody tr th:only-of-type {\n",
       "        vertical-align: middle;\n",
       "    }\n",
       "\n",
       "    .dataframe tbody tr th {\n",
       "        vertical-align: top;\n",
       "    }\n",
       "\n",
       "    .dataframe thead th {\n",
       "        text-align: right;\n",
       "    }\n",
       "</style>\n",
       "<table border=\"1\" class=\"dataframe\">\n",
       "  <thead>\n",
       "    <tr style=\"text-align: right;\">\n",
       "      <th></th>\n",
       "      <th>id</th>\n",
       "      <th>date</th>\n",
       "      <th>win</th>\n",
       "      <th>rating</th>\n",
       "    </tr>\n",
       "  </thead>\n",
       "  <tbody>\n",
       "    <tr>\n",
       "      <th>0</th>\n",
       "      <td>hhrYF</td>\n",
       "      <td>1624134299340</td>\n",
       "      <td>True</td>\n",
       "      <td>1777</td>\n",
       "    </tr>\n",
       "    <tr>\n",
       "      <th>1</th>\n",
       "      <td>DmlXB</td>\n",
       "      <td>1624134247927</td>\n",
       "      <td>False</td>\n",
       "      <td>1955</td>\n",
       "    </tr>\n",
       "    <tr>\n",
       "      <th>2</th>\n",
       "      <td>mqmKF</td>\n",
       "      <td>1624134227576</td>\n",
       "      <td>False</td>\n",
       "      <td>1932</td>\n",
       "    </tr>\n",
       "    <tr>\n",
       "      <th>3</th>\n",
       "      <td>3jWLM</td>\n",
       "      <td>1624134018128</td>\n",
       "      <td>True</td>\n",
       "      <td>1886</td>\n",
       "    </tr>\n",
       "    <tr>\n",
       "      <th>4</th>\n",
       "      <td>u80vy</td>\n",
       "      <td>1624133920735</td>\n",
       "      <td>True</td>\n",
       "      <td>1689</td>\n",
       "    </tr>\n",
       "  </tbody>\n",
       "</table>\n",
       "</div>"
      ],
      "text/plain": [
       "      id           date    win  rating\n",
       "0  hhrYF  1624134299340   True    1777\n",
       "1  DmlXB  1624134247927  False    1955\n",
       "2  mqmKF  1624134227576  False    1932\n",
       "3  3jWLM  1624134018128   True    1886\n",
       "4  u80vy  1624133920735   True    1689"
      ]
     },
     "execution_count": 66,
     "metadata": {},
     "output_type": "execute_result"
    }
   ],
   "source": [
    "df.head()"
   ]
  },
  {
   "cell_type": "code",
   "execution_count": null,
   "id": "6a0e124b",
   "metadata": {},
   "outputs": [],
   "source": [
    "df.to_csv('puzzle_history.csv')"
   ]
  }
 ],
 "metadata": {
  "kernelspec": {
   "display_name": "Python 3",
   "language": "python",
   "name": "python3"
  },
  "language_info": {
   "codemirror_mode": {
    "name": "ipython",
    "version": 3
   },
   "file_extension": ".py",
   "mimetype": "text/x-python",
   "name": "python",
   "nbconvert_exporter": "python",
   "pygments_lexer": "ipython3",
   "version": "3.8.5"
  }
 },
 "nbformat": 4,
 "nbformat_minor": 5
}
